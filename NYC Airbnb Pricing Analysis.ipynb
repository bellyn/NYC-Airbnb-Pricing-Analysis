{
 "cells": [
  {
   "cell_type": "code",
   "execution_count": 1,
   "metadata": {
    "_cell_guid": "b1076dfc-b9ad-4769-8c92-a6c4dae69d19",
    "_uuid": "8f2839f25d086af736a60e9eeb907d3b93b6e0e5"
   },
   "outputs": [],
   "source": [
    "import numpy as np # linear algebra\n",
    "import pandas as pd # data processing, CSV file I/O (e.g. pd.read_csv)\n",
    "import matplotlib.pyplot as plt\n",
    "import seaborn as sns\n",
    "import string\n",
    "\n",
    "import os\n",
    "for dirname, _, filenames in os.walk('/kaggle/input'):\n",
    "    for filename in filenames:\n",
    "        print(os.path.join(dirname, filename))"
   ]
  },
  {
   "cell_type": "markdown",
   "metadata": {},
   "source": [
    "For this project I am interested in understanding listing features driving higher AirBnB prices. How can AirBnB hosts bring out the best existing qualities of their listings? How can they know if their pricing is fair compared to market? \n",
    "\n",
    "This piece of analysis is broken down into two parts to answer the questions:\n",
    "* What is a fair price for each listing?\n",
    "* How can they bring out the best qualities of their listing through accurate description?"
   ]
  },
  {
   "cell_type": "markdown",
   "metadata": {},
   "source": [
    "![](http://)**1. Data Overview and Preprocessing**"
   ]
  },
  {
   "cell_type": "code",
   "execution_count": 4,
   "metadata": {
    "_cell_guid": "79c7e3d0-c299-4dcb-8224-4455121ee9b0",
    "_uuid": "d629ff2d2480ee46fbb7e2d37f6b5fab8052498a"
   },
   "outputs": [],
   "source": [
    "airbnb = pd.read_csv(\"AB_NYC_2019.csv\")"
   ]
  },
  {
   "cell_type": "code",
   "execution_count": 5,
   "metadata": {},
   "outputs": [
    {
     "name": "stdout",
     "output_type": "stream",
     "text": [
      "\n",
      "Data size: \n",
      " (48895, 16)\n",
      "\n",
      "Data types: \n",
      " id                                  int64\n",
      "name                               object\n",
      "host_id                             int64\n",
      "host_name                          object\n",
      "neighbourhood_group                object\n",
      "neighbourhood                      object\n",
      "latitude                          float64\n",
      "longitude                         float64\n",
      "room_type                          object\n",
      "price                               int64\n",
      "minimum_nights                      int64\n",
      "number_of_reviews                   int64\n",
      "last_review                        object\n",
      "reviews_per_month                 float64\n",
      "calculated_host_listings_count      int64\n",
      "availability_365                    int64\n",
      "dtype: object\n",
      "\n",
      "Features: \n",
      " Index(['id', 'name', 'host_id', 'host_name', 'neighbourhood_group',\n",
      "       'neighbourhood', 'latitude', 'longitude', 'room_type', 'price',\n",
      "       'minimum_nights', 'number_of_reviews', 'last_review',\n",
      "       'reviews_per_month', 'calculated_host_listings_count',\n",
      "       'availability_365'],\n",
      "      dtype='object')\n",
      "\n",
      "Missing Values : id                                    0\n",
      "name                                 16\n",
      "host_id                               0\n",
      "host_name                            21\n",
      "neighbourhood_group                   0\n",
      "neighbourhood                         0\n",
      "latitude                              0\n",
      "longitude                             0\n",
      "room_type                             0\n",
      "price                                 0\n",
      "minimum_nights                        0\n",
      "number_of_reviews                     0\n",
      "last_review                       10052\n",
      "reviews_per_month                 10052\n",
      "calculated_host_listings_count        0\n",
      "availability_365                      0\n",
      "dtype: int64\n",
      "\n",
      "Unique Values : id                                48895\n",
      "name                              47905\n",
      "host_id                           37457\n",
      "host_name                         11452\n",
      "neighbourhood_group                   5\n",
      "neighbourhood                       221\n",
      "latitude                          19048\n",
      "longitude                         14718\n",
      "room_type                             3\n",
      "price                               674\n",
      "minimum_nights                      109\n",
      "number_of_reviews                   394\n",
      "last_review                        1764\n",
      "reviews_per_month                   937\n",
      "calculated_host_listings_count       47\n",
      "availability_365                    366\n",
      "dtype: int64\n"
     ]
    }
   ],
   "source": [
    "print(\"\\nData size: \\n\", airbnb.shape)\n",
    "print(\"\\nData types: \\n\", airbnb.dtypes)\n",
    "print(\"\\nFeatures: \\n\", airbnb.columns)\n",
    "print(\"\\nMissing Values :\", airbnb.isnull().sum())\n",
    "print(\"\\nUnique Values :\", airbnb.nunique())"
   ]
  },
  {
   "cell_type": "code",
   "execution_count": 6,
   "metadata": {},
   "outputs": [],
   "source": [
    "# separate our table from original table for further manipulation\n",
    "airbnb_df = airbnb\n",
    "\n",
    "# convert date into day, month, and year columns\n",
    "airbnb_df.last_review = pd.to_datetime(airbnb.last_review)\n",
    "airbnb_df[\"last_review_day\"] = airbnb_df.last_review.dt.day\n",
    "airbnb_df[\"last_review_month\"] = airbnb_df.last_review.dt.month\n",
    "airbnb_df[\"last_review_year\"] = airbnb_df.last_review.dt.year"
   ]
  },
  {
   "cell_type": "code",
   "execution_count": 7,
   "metadata": {},
   "outputs": [
    {
     "name": "stdout",
     "output_type": "stream",
     "text": [
      "Do all missing values occur at the same index?\n",
      "True\n"
     ]
    }
   ],
   "source": [
    "# do all the missing values occur at the same index?\n",
    "last_review_missing = pd.isnull(airbnb_df[\"last_review\"])\n",
    "reviews_per_month_missing = pd.isnull(airbnb_df[\"reviews_per_month\"])\n",
    "print(\"Do all missing values occur at the same index?\")\n",
    "print(np.array_equal(last_review_missing,reviews_per_month_missing))\n",
    "\n",
    "# create a new flag to tag these listings as new listings \n",
    "airbnb_df[\"new_listing_flag\"] = np.where(last_review_missing, 1, 0)"
   ]
  },
  {
   "cell_type": "code",
   "execution_count": 8,
   "metadata": {},
   "outputs": [
    {
     "data": {
      "image/png": "[encoded data removed]",
      "text/plain": [
       "<Figure size 1152x720 with 1 Axes>"
      ]
     },
     "metadata": {
      "needs_background": "light"
     },
     "output_type": "display_data"
    }
   ],
   "source": [
    "time_trend_count = airbnb_df.groupby([ \"neighbourhood_group\",\"last_review_year\"])[\"id\"].count().reset_index()\n",
    "time_trend_count.set_index([\"last_review_year\"]).reset_index().sort_values(by=[\"neighbourhood_group\",\"last_review_year\"])\n",
    "\n",
    "time_trend_count = pd.DataFrame(time_trend_count)\n",
    "time_trend_count = pd.pivot_table(time_trend_count,values=\"id\",columns=\"neighbourhood_group\",index=\"last_review_year\").fillna(value=0)\n",
    "\n",
    "plt.figure(figsize=(16, 10))\n",
    "\n",
    "barWidth = 0.15  # the width of the bar\n",
    "# set height of bar\n",
    "bars1 = time_trend_count[\"Bronx\"].tolist()\n",
    "bars2 = time_trend_count[\"Brooklyn\"].tolist()\n",
    "bars3 = time_trend_count[\"Manhattan\"].tolist()\n",
    "bars4 = time_trend_count[\"Staten Island\"].tolist()\n",
    "bars5 = time_trend_count[\"Queens\"].tolist()\n",
    "\n",
    "# Set position of bar on X axis\n",
    "r1 = np.arange(len(bars1))\n",
    "r2 = [x + barWidth for x in r1]\n",
    "r3 = [x + barWidth for x in r2]\n",
    "r4 = [x + barWidth for x in r3]\n",
    "r5 = [x + barWidth for x in r4]\n",
    "\n",
    "plt.bar(r1, bars1, color='brown', width=barWidth, edgecolor='white', label='Bronx')\n",
    "plt.bar(r2, bars2, color='blue', width=barWidth, edgecolor='white', label='Brooklyn')\n",
    "plt.bar(r3, bars3, color='red', width=barWidth, edgecolor='white', label='Manhattan')\n",
    "plt.bar(r4, bars4, color='green', width=barWidth, edgecolor='white', label='Staten Island')\n",
    "plt.bar(r5, bars5, color='yellow', width=barWidth, edgecolor='white', label='Queens')\n",
    "\n",
    "plt.xlabel('Year', fontweight='bold')\n",
    "plt.ylabel('Number of listings', fontweight='bold')\n",
    "plt.xticks([r + barWidth for r in range(len(bars1))], time_trend_count.index)\n",
    "\n",
    "plt.legend()\n",
    "plt.show()\n"
   ]
  },
  {
   "cell_type": "markdown",
   "metadata": {},
   "source": [
    "Here I set the assumption that \"last_review_year\" older than 2018 are inactive listings. We will focus the rest of the analysis on the active listings.  "
   ]
  },
  {
   "cell_type": "code",
   "execution_count": 9,
   "metadata": {},
   "outputs": [],
   "source": [
    "airbnb_df = airbnb_df[ (airbnb_df[\"last_review_year\"] > 2017) | (airbnb_df[\"new_listing_flag\"] == 1)]"
   ]
  },
  {
   "cell_type": "markdown",
   "metadata": {},
   "source": [
    "**2. Analysis**"
   ]
  },
  {
   "cell_type": "code",
   "execution_count": 10,
   "metadata": {},
   "outputs": [
    {
     "name": "stderr",
     "output_type": "stream",
     "text": [
      "/Users/Bellyn/opt/anaconda3/lib/python3.7/site-packages/ipykernel_launcher.py:2: FutureWarning: using a dict on a Series for aggregation\n",
      "is deprecated and will be removed in a future version. Use                 named aggregation instead.\n",
      "\n",
      "    >>> grouper.agg(name_1=func_1, name_2=func_2)\n",
      "\n",
      "  \n"
     ]
    },
    {
     "name": "stdout",
     "output_type": "stream",
     "text": [
      "  neighbourhood_group  new_listing_flag  Count  Min    Max  Median         Std\n",
      "0       Staten Island                 1     59   29   5000      95  670.663296\n",
      "1       Staten Island                 0    303   13    300      72   54.824919\n",
      "2              Queens                 1   1092   11   2350      80  160.845636\n",
      "3              Queens                 0   4046   10   2600      70   80.371149\n",
      "4           Manhattan                 1   5029    0  10000     175  438.376573\n",
      "5           Manhattan                 0  12952   10   8500     145  193.220898\n",
      "6            Brooklyn                 1   3657   10   6500      85  249.066062\n",
      "7            Brooklyn                 0  13141    0   7500      95  131.927297\n",
      "8               Bronx                 1    215   10   2500      77  199.899692\n",
      "9               Bronx                 0    817    0    670      65   60.614690\n"
     ]
    },
    {
     "data": {
      "text/plain": [
       "<matplotlib.axes._subplots.AxesSubplot at 0x1a25520650>"
      ]
     },
     "execution_count": 10,
     "metadata": {},
     "output_type": "execute_result"
    },
    {
     "data": {
      "image/png": "[encoded data removed]",
      "text/plain": [
       "<Figure size 1152x720 with 1 Axes>"
      ]
     },
     "metadata": {
      "needs_background": "light"
     },
     "output_type": "display_data"
    }
   ],
   "source": [
    "price_by_neighbourhood = airbnb_df.groupby([\"neighbourhood_group\",\"new_listing_flag\"])[\"price\"].agg({'Count':'count','Min': 'min',\n",
    "                             'Max': 'max', 'Median':'median', 'Std':'std'})\n",
    "\n",
    "price_by_neighbourhood = price_by_neighbourhood.sort_values(by=[\"neighbourhood_group\",\"new_listing_flag\"], ascending = False).reset_index()\n",
    "print(price_by_neighbourhood)\n",
    "\n",
    "# Grouped boxplot\n",
    "df = pd.DataFrame(airbnb_df[[\"price\",\"neighbourhood_group\", \"new_listing_flag\"]])\n",
    "plt.figure(figsize=(16, 10))\n",
    "sns.boxplot(x=\"neighbourhood_group\", y=\"price\", hue=\"new_listing_flag\", data=df, palette=\"Set1\", showfliers=False)"
   ]
  },
  {
   "cell_type": "markdown",
   "metadata": {},
   "source": [
    "This chart gives a sense of scale of the Airbnb listing space. Manhattan has the most expensive listings, followed by Brooklyn. New listings are overall more expensive than existing listings. "
   ]
  },
  {
   "cell_type": "code",
   "execution_count": 11,
   "metadata": {},
   "outputs": [
    {
     "name": "stderr",
     "output_type": "stream",
     "text": [
      "/Users/Bellyn/opt/anaconda3/lib/python3.7/site-packages/ipykernel_launcher.py:4: FutureWarning: using a dict on a Series for aggregation\n",
      "is deprecated and will be removed in a future version. Use                 named aggregation instead.\n",
      "\n",
      "    >>> grouper.agg(name_1=func_1, name_2=func_2)\n",
      "\n",
      "  after removing the cwd from sys.path.\n"
     ]
    },
    {
     "data": {
      "text/html": [
       "<div>\n",
       "<style scoped>\n",
       "    .dataframe tbody tr th:only-of-type {\n",
       "        vertical-align: middle;\n",
       "    }\n",
       "\n",
       "    .dataframe tbody tr th {\n",
       "        vertical-align: top;\n",
       "    }\n",
       "\n",
       "    .dataframe thead th {\n",
       "        text-align: right;\n",
       "    }\n",
       "</style>\n",
       "<table border=\"1\" class=\"dataframe\">\n",
       "  <thead>\n",
       "    <tr style=\"text-align: right;\">\n",
       "      <th></th>\n",
       "      <th></th>\n",
       "      <th>Count</th>\n",
       "      <th>Min</th>\n",
       "      <th>Max</th>\n",
       "      <th>Median</th>\n",
       "      <th>Std</th>\n",
       "    </tr>\n",
       "    <tr>\n",
       "      <th>neighbourhood_group</th>\n",
       "      <th>neighbourhood</th>\n",
       "      <th></th>\n",
       "      <th></th>\n",
       "      <th></th>\n",
       "      <th></th>\n",
       "      <th></th>\n",
       "    </tr>\n",
       "  </thead>\n",
       "  <tbody>\n",
       "    <tr>\n",
       "      <td rowspan=\"5\" valign=\"top\">Manhattan</td>\n",
       "      <td>Tribeca</td>\n",
       "      <td>150</td>\n",
       "      <td>60</td>\n",
       "      <td>8500</td>\n",
       "      <td>301.5</td>\n",
       "      <td>905.337342</td>\n",
       "    </tr>\n",
       "    <tr>\n",
       "      <td>Midtown</td>\n",
       "      <td>1334</td>\n",
       "      <td>48</td>\n",
       "      <td>5100</td>\n",
       "      <td>215.0</td>\n",
       "      <td>249.022322</td>\n",
       "    </tr>\n",
       "    <tr>\n",
       "      <td>Financial District</td>\n",
       "      <td>671</td>\n",
       "      <td>12</td>\n",
       "      <td>3000</td>\n",
       "      <td>210.0</td>\n",
       "      <td>173.971615</td>\n",
       "    </tr>\n",
       "    <tr>\n",
       "      <td>Greenwich Village</td>\n",
       "      <td>307</td>\n",
       "      <td>43</td>\n",
       "      <td>6000</td>\n",
       "      <td>200.0</td>\n",
       "      <td>443.631605</td>\n",
       "    </tr>\n",
       "    <tr>\n",
       "      <td>West Village</td>\n",
       "      <td>608</td>\n",
       "      <td>50</td>\n",
       "      <td>4000</td>\n",
       "      <td>200.0</td>\n",
       "      <td>296.910631</td>\n",
       "    </tr>\n",
       "    <tr>\n",
       "      <td rowspan=\"5\" valign=\"top\">Brooklyn</td>\n",
       "      <td>Boerum Hill</td>\n",
       "      <td>138</td>\n",
       "      <td>46</td>\n",
       "      <td>1000</td>\n",
       "      <td>150.0</td>\n",
       "      <td>141.080388</td>\n",
       "    </tr>\n",
       "    <tr>\n",
       "      <td>Brooklyn Heights</td>\n",
       "      <td>121</td>\n",
       "      <td>45</td>\n",
       "      <td>1500</td>\n",
       "      <td>150.0</td>\n",
       "      <td>207.251372</td>\n",
       "    </tr>\n",
       "    <tr>\n",
       "      <td>Carroll Gardens</td>\n",
       "      <td>180</td>\n",
       "      <td>40</td>\n",
       "      <td>1395</td>\n",
       "      <td>150.0</td>\n",
       "      <td>136.126791</td>\n",
       "    </tr>\n",
       "    <tr>\n",
       "      <td>Park Slope</td>\n",
       "      <td>409</td>\n",
       "      <td>30</td>\n",
       "      <td>2626</td>\n",
       "      <td>145.0</td>\n",
       "      <td>181.166371</td>\n",
       "    </tr>\n",
       "    <tr>\n",
       "      <td>South Slope</td>\n",
       "      <td>223</td>\n",
       "      <td>40</td>\n",
       "      <td>500</td>\n",
       "      <td>134.0</td>\n",
       "      <td>83.913805</td>\n",
       "    </tr>\n",
       "    <tr>\n",
       "      <td rowspan=\"5\" valign=\"top\">Queens</td>\n",
       "      <td>Long Island City</td>\n",
       "      <td>466</td>\n",
       "      <td>30</td>\n",
       "      <td>2000</td>\n",
       "      <td>99.0</td>\n",
       "      <td>131.483223</td>\n",
       "    </tr>\n",
       "    <tr>\n",
       "      <td>Forest Hills</td>\n",
       "      <td>126</td>\n",
       "      <td>16</td>\n",
       "      <td>2350</td>\n",
       "      <td>88.0</td>\n",
       "      <td>224.744029</td>\n",
       "    </tr>\n",
       "    <tr>\n",
       "      <td>Astoria</td>\n",
       "      <td>751</td>\n",
       "      <td>25</td>\n",
       "      <td>2000</td>\n",
       "      <td>85.0</td>\n",
       "      <td>106.572340</td>\n",
       "    </tr>\n",
       "    <tr>\n",
       "      <td>Ditmars Steinway</td>\n",
       "      <td>267</td>\n",
       "      <td>29</td>\n",
       "      <td>600</td>\n",
       "      <td>80.0</td>\n",
       "      <td>65.765041</td>\n",
       "    </tr>\n",
       "    <tr>\n",
       "      <td>Sunnyside</td>\n",
       "      <td>318</td>\n",
       "      <td>12</td>\n",
       "      <td>600</td>\n",
       "      <td>75.0</td>\n",
       "      <td>54.631284</td>\n",
       "    </tr>\n",
       "  </tbody>\n",
       "</table>\n",
       "</div>"
      ],
      "text/plain": [
       "                                        Count  Min   Max  Median         Std\n",
       "neighbourhood_group neighbourhood                                           \n",
       "Manhattan           Tribeca               150   60  8500   301.5  905.337342\n",
       "                    Midtown              1334   48  5100   215.0  249.022322\n",
       "                    Financial District    671   12  3000   210.0  173.971615\n",
       "                    Greenwich Village     307   43  6000   200.0  443.631605\n",
       "                    West Village          608   50  4000   200.0  296.910631\n",
       "Brooklyn            Boerum Hill           138   46  1000   150.0  141.080388\n",
       "                    Brooklyn Heights      121   45  1500   150.0  207.251372\n",
       "                    Carroll Gardens       180   40  1395   150.0  136.126791\n",
       "                    Park Slope            409   30  2626   145.0  181.166371\n",
       "                    South Slope           223   40   500   134.0   83.913805\n",
       "Queens              Long Island City      466   30  2000    99.0  131.483223\n",
       "                    Forest Hills          126   16  2350    88.0  224.744029\n",
       "                    Astoria               751   25  2000    85.0  106.572340\n",
       "                    Ditmars Steinway      267   29   600    80.0   65.765041\n",
       "                    Sunnyside             318   12   600    75.0   54.631284"
      ]
     },
     "execution_count": 11,
     "metadata": {},
     "output_type": "execute_result"
    }
   ],
   "source": [
    "# Within each neighborhood group, which are the most expensive?\n",
    "\n",
    "neighborhood = airbnb_df.groupby([\"neighbourhood_group\",\"neighbourhood\"])[\"price\"].agg({'Count':'count','Min': 'min',\n",
    "                             'Max': 'max', 'Median':'median', 'Std':'std'})\n",
    "\n",
    "neighborhood[neighborhood[\"Count\"]>100].sort_values(by=\"Median\", ascending = False).groupby(\"neighbourhood_group\").head(5)"
   ]
  },
  {
   "cell_type": "code",
   "execution_count": 12,
   "metadata": {},
   "outputs": [
    {
     "name": "stderr",
     "output_type": "stream",
     "text": [
      "/Users/Bellyn/opt/anaconda3/lib/python3.7/site-packages/ipykernel_launcher.py:4: SettingWithCopyWarning: \n",
      "A value is trying to be set on a copy of a slice from a DataFrame.\n",
      "Try using .loc[row_indexer,col_indexer] = value instead\n",
      "\n",
      "See the caveats in the documentation: http://pandas.pydata.org/pandas-docs/stable/user_guide/indexing.html#returning-a-view-versus-a-copy\n",
      "  after removing the cwd from sys.path.\n"
     ]
    },
    {
     "data": {
      "text/html": [
       "<div>\n",
       "<style scoped>\n",
       "    .dataframe tbody tr th:only-of-type {\n",
       "        vertical-align: middle;\n",
       "    }\n",
       "\n",
       "    .dataframe tbody tr th {\n",
       "        vertical-align: top;\n",
       "    }\n",
       "\n",
       "    .dataframe thead th {\n",
       "        text-align: right;\n",
       "    }\n",
       "</style>\n",
       "<table border=\"1\" class=\"dataframe\">\n",
       "  <thead>\n",
       "    <tr style=\"text-align: right;\">\n",
       "      <th></th>\n",
       "      <th>number_of_reviews</th>\n",
       "    </tr>\n",
       "    <tr>\n",
       "      <th>binned_reviews</th>\n",
       "      <th></th>\n",
       "    </tr>\n",
       "  </thead>\n",
       "  <tbody>\n",
       "    <tr>\n",
       "      <td>&lt;10</td>\n",
       "      <td>10904</td>\n",
       "    </tr>\n",
       "    <tr>\n",
       "      <td>10-19</td>\n",
       "      <td>4621</td>\n",
       "    </tr>\n",
       "    <tr>\n",
       "      <td>20-39</td>\n",
       "      <td>4529</td>\n",
       "    </tr>\n",
       "    <tr>\n",
       "      <td>40-59</td>\n",
       "      <td>2500</td>\n",
       "    </tr>\n",
       "    <tr>\n",
       "      <td>60-79</td>\n",
       "      <td>1646</td>\n",
       "    </tr>\n",
       "    <tr>\n",
       "      <td>80-99</td>\n",
       "      <td>1097</td>\n",
       "    </tr>\n",
       "    <tr>\n",
       "      <td>&gt;100</td>\n",
       "      <td>2968</td>\n",
       "    </tr>\n",
       "  </tbody>\n",
       "</table>\n",
       "</div>"
      ],
      "text/plain": [
       "                number_of_reviews\n",
       "binned_reviews                   \n",
       "<10                         10904\n",
       "10-19                        4621\n",
       "20-39                        4529\n",
       "40-59                        2500\n",
       "60-79                        1646\n",
       "80-99                        1097\n",
       ">100                         2968"
      ]
     },
     "execution_count": 12,
     "metadata": {},
     "output_type": "execute_result"
    }
   ],
   "source": [
    "# Popularity of listing\n",
    "number_of_reviews_bins = [1,10,20,40,60,80,100,float(\"inf\")]\n",
    "number_of_review_labels = [\"<10\",\"10-19\",\"20-39\",\"40-59\",\"60-79\",\"80-99\",\">100\"]\n",
    "airbnb_df['binned_reviews'] = pd.cut(airbnb_df['number_of_reviews'], bins = number_of_reviews_bins, labels = number_of_review_labels)\n",
    "airbnb_df[[\"number_of_reviews\", \"binned_reviews\"]].dropna().groupby(\"binned_reviews\").count()"
   ]
  },
  {
   "cell_type": "code",
   "execution_count": 13,
   "metadata": {},
   "outputs": [
    {
     "name": "stderr",
     "output_type": "stream",
     "text": [
      "/Users/Bellyn/opt/anaconda3/lib/python3.7/site-packages/ipykernel_launcher.py:2: FutureWarning: using a dict on a Series for aggregation\n",
      "is deprecated and will be removed in a future version. Use                 named aggregation instead.\n",
      "\n",
      "    >>> grouper.agg(name_1=func_1, name_2=func_2)\n",
      "\n",
      "  \n"
     ]
    },
    {
     "data": {
      "text/plain": [
       "<matplotlib.axes._subplots.AxesSubplot at 0x1a260afc50>"
      ]
     },
     "execution_count": 13,
     "metadata": {},
     "output_type": "execute_result"
    },
    {
     "data": {
      "image/png": "[encoded data removed]",
      "text/plain": [
       "<Figure size 1152x720 with 1 Axes>"
      ]
     },
     "metadata": {
      "needs_background": "light"
     },
     "output_type": "display_data"
    }
   ],
   "source": [
    "reviews = airbnb_df.groupby(\"binned_reviews\")[\"price\"].agg({'Count':'count','Min': 'min',\n",
    "                             'Max': 'max', 'Median':'median', 'Std':'std'})\n",
    "\n",
    "# Grouped boxplot\n",
    "reviews_boxplot = pd.DataFrame(airbnb_df[[\"binned_reviews\",\"price\"]])\n",
    "plt.figure(figsize=(16, 10))\n",
    "sns.boxplot(x=\"binned_reviews\", y=\"price\", data=reviews_boxplot, palette=\"Set1\", showfliers=False)"
   ]
  },
  {
   "cell_type": "markdown",
   "metadata": {},
   "source": [
    "Most airbnb listings have less than 10 cumulative reviews. The number of reviews per listing doesn't seem to affect the price.\n"
   ]
  },
  {
   "cell_type": "code",
   "execution_count": 14,
   "metadata": {},
   "outputs": [
    {
     "name": "stderr",
     "output_type": "stream",
     "text": [
      "/Users/Bellyn/opt/anaconda3/lib/python3.7/site-packages/ipykernel_launcher.py:4: SettingWithCopyWarning: \n",
      "A value is trying to be set on a copy of a slice from a DataFrame.\n",
      "Try using .loc[row_indexer,col_indexer] = value instead\n",
      "\n",
      "See the caveats in the documentation: http://pandas.pydata.org/pandas-docs/stable/user_guide/indexing.html#returning-a-view-versus-a-copy\n",
      "  after removing the cwd from sys.path.\n"
     ]
    },
    {
     "data": {
      "text/html": [
       "<div>\n",
       "<style scoped>\n",
       "    .dataframe tbody tr th:only-of-type {\n",
       "        vertical-align: middle;\n",
       "    }\n",
       "\n",
       "    .dataframe tbody tr th {\n",
       "        vertical-align: top;\n",
       "    }\n",
       "\n",
       "    .dataframe thead th {\n",
       "        text-align: right;\n",
       "    }\n",
       "</style>\n",
       "<table border=\"1\" class=\"dataframe\">\n",
       "  <thead>\n",
       "    <tr style=\"text-align: right;\">\n",
       "      <th></th>\n",
       "      <th>reviews_per_month</th>\n",
       "    </tr>\n",
       "    <tr>\n",
       "      <th>binned_reviews_per_month</th>\n",
       "      <th></th>\n",
       "    </tr>\n",
       "  </thead>\n",
       "  <tbody>\n",
       "    <tr>\n",
       "      <td>(0.0, 5.0]</td>\n",
       "      <td>9537</td>\n",
       "    </tr>\n",
       "    <tr>\n",
       "      <td>(5.0, 10.0]</td>\n",
       "      <td>4361</td>\n",
       "    </tr>\n",
       "    <tr>\n",
       "      <td>(10.0, 20.0]</td>\n",
       "      <td>4621</td>\n",
       "    </tr>\n",
       "    <tr>\n",
       "      <td>(20.0, 50.0]</td>\n",
       "      <td>5903</td>\n",
       "    </tr>\n",
       "    <tr>\n",
       "      <td>(50.0, 100.0]</td>\n",
       "      <td>3869</td>\n",
       "    </tr>\n",
       "    <tr>\n",
       "      <td>(100.0, inf]</td>\n",
       "      <td>2968</td>\n",
       "    </tr>\n",
       "  </tbody>\n",
       "</table>\n",
       "</div>"
      ],
      "text/plain": [
       "                          reviews_per_month\n",
       "binned_reviews_per_month                   \n",
       "(0.0, 5.0]                             9537\n",
       "(5.0, 10.0]                            4361\n",
       "(10.0, 20.0]                           4621\n",
       "(20.0, 50.0]                           5903\n",
       "(50.0, 100.0]                          3869\n",
       "(100.0, inf]                           2968"
      ]
     },
     "execution_count": 14,
     "metadata": {},
     "output_type": "execute_result"
    }
   ],
   "source": [
    "# Popularity of listing\n",
    "reviews_per_month_bins = [0,5,10,20,50,100,float(\"inf\")]\n",
    "# reviews_per_month_labels = [\"<10\",\"10-19\",\"20-39\",\"40-59\",\"60-79\",\"80-99\",\">100\"]\n",
    "airbnb_df['binned_reviews_per_month'] = pd.cut(airbnb_df['number_of_reviews'], bins = reviews_per_month_bins)#, labels = reviews_per_month_labels)\n",
    "airbnb_df[[\"reviews_per_month\", \"binned_reviews_per_month\"]].dropna().groupby(\"binned_reviews_per_month\").count()"
   ]
  },
  {
   "cell_type": "code",
   "execution_count": 15,
   "metadata": {},
   "outputs": [
    {
     "name": "stderr",
     "output_type": "stream",
     "text": [
      "/Users/Bellyn/opt/anaconda3/lib/python3.7/site-packages/ipykernel_launcher.py:2: FutureWarning: using a dict on a Series for aggregation\n",
      "is deprecated and will be removed in a future version. Use                 named aggregation instead.\n",
      "\n",
      "    >>> grouper.agg(name_1=func_1, name_2=func_2)\n",
      "\n",
      "  \n"
     ]
    },
    {
     "name": "stdout",
     "output_type": "stream",
     "text": [
      "                          Count  Min   Max  Median         Std\n",
      "binned_reviews_per_month                                      \n",
      "(0.0, 5.0]                 9537    0  8500     109  200.712081\n",
      "(5.0, 10.0]                4361   10  7500     110  181.987660\n",
      "(10.0, 20.0]               4621    0  2500     100  137.686221\n",
      "(20.0, 50.0]               5903   10  2300     100  125.369434\n",
      "(50.0, 100.0]              3869    0  2990     100  111.237057\n",
      "(100.0, inf]               2968   11  1195     103   87.148264\n"
     ]
    },
    {
     "data": {
      "text/plain": [
       "<matplotlib.axes._subplots.AxesSubplot at 0x1a26259910>"
      ]
     },
     "execution_count": 15,
     "metadata": {},
     "output_type": "execute_result"
    },
    {
     "data": {
      "image/png": "[encoded data removed]",
      "text/plain": [
       "<Figure size 1152x720 with 1 Axes>"
      ]
     },
     "metadata": {
      "needs_background": "light"
     },
     "output_type": "display_data"
    }
   ],
   "source": [
    "reviews_per_month = airbnb_df.groupby(\"binned_reviews_per_month\")[\"price\"].agg({'Count':'count','Min': 'min',\n",
    "                             'Max': 'max', 'Median':'median', 'Std':'std'})\n",
    "\n",
    "print(reviews_per_month)\n",
    "# Grouped boxplot\n",
    "reviews_boxplot = pd.DataFrame(airbnb_df[[\"binned_reviews_per_month\",\"price\"]])\n",
    "plt.figure(figsize=(16, 10))\n",
    "sns.boxplot(x=\"binned_reviews_per_month\", y=\"price\", data=reviews_boxplot, palette=\"Set1\", showfliers=False)"
   ]
  },
  {
   "cell_type": "code",
   "execution_count": 16,
   "metadata": {},
   "outputs": [
    {
     "data": {
      "image/png": "[encoded data removed]",
      "text/plain": [
       "<Figure size 1152x720 with 1 Axes>"
      ]
     },
     "metadata": {
      "needs_background": "light"
     },
     "output_type": "display_data"
    }
   ],
   "source": [
    "room_trend = airbnb_df[airbnb_df[\"new_listing_flag\"] == 0].groupby([ \"neighbourhood_group\",\"room_type\"])[\"price\"].median().reset_index()\n",
    "room_trend.set_index([\"room_type\"]).reset_index().sort_values(by=[\"neighbourhood_group\",\"room_type\"])\n",
    "\n",
    "room_trend = pd.DataFrame(room_trend)\n",
    "room_trend = pd.pivot_table(room_trend,values=\"price\",columns=\"neighbourhood_group\",index=\"room_type\").fillna(value=0)\n",
    "\n",
    "plt.figure(figsize=(16, 10))\n",
    "\n",
    "barWidth = 0.15  # the width of the bar\n",
    "# set height of bar\n",
    "bars1 = room_trend[\"Bronx\"].tolist()\n",
    "bars2 = room_trend[\"Brooklyn\"].tolist()\n",
    "bars3 = room_trend[\"Manhattan\"].tolist()\n",
    "bars4 = room_trend[\"Staten Island\"].tolist()\n",
    "bars5 = room_trend[\"Queens\"].tolist()\n",
    "\n",
    "# Set position of bar on X axis\n",
    "r1 = np.arange(len(bars1))\n",
    "r2 = [x + barWidth for x in r1]\n",
    "r3 = [x + barWidth for x in r2]\n",
    "r4 = [x + barWidth for x in r3]\n",
    "r5 = [x + barWidth for x in r4]\n",
    "\n",
    "plt.bar(r1, bars1, color='brown', width=barWidth, edgecolor='white', label='Bronx')\n",
    "plt.bar(r2, bars2, color='blue', width=barWidth, edgecolor='white', label='Brooklyn')\n",
    "plt.bar(r3, bars3, color='red', width=barWidth, edgecolor='white', label='Manhattan')\n",
    "plt.bar(r4, bars4, color='green', width=barWidth, edgecolor='white', label='Staten Island')\n",
    "plt.bar(r5, bars5, color='yellow', width=barWidth, edgecolor='white', label='Queens')\n",
    "\n",
    "plt.xlabel('Room Type', fontweight='bold')\n",
    "plt.ylabel('Price', fontweight='bold')\n",
    "plt.xticks([r + barWidth for r in range(len(bars1))], room_trend.index)\n",
    "\n",
    "plt.legend()\n",
    "plt.show()"
   ]
  },
  {
   "cell_type": "markdown",
   "metadata": {},
   "source": [
    "We know that entire homes fetch a higher price than semi-private spaces. But the difference between boroughs is again pronounced here. For the same price as a private room in Manhattan, you can get a whole apartment if you move to the Bronx or Staten Island."
   ]
  },
  {
   "cell_type": "markdown",
   "metadata": {},
   "source": [
    "** 3. Listing Description Analysis **\n",
    "\n",
    "I'm interested in understanding the qualitative features that set prices apart. What are some features that makes listings more desirable? \n",
    "\n",
    "To control for the difference between boroughs, we'll look into the features within each borough. We'll also dive deeper by controlling for other features such as type of room and the overall popularity of the listing."
   ]
  },
  {
   "cell_type": "code",
   "execution_count": 19,
   "metadata": {},
   "outputs": [
    {
     "name": "stderr",
     "output_type": "stream",
     "text": [
      "/Users/Bellyn/opt/anaconda3/lib/python3.7/site-packages/ipykernel_launcher.py:15: SettingWithCopyWarning: \n",
      "A value is trying to be set on a copy of a slice from a DataFrame.\n",
      "Try using .loc[row_indexer,col_indexer] = value instead\n",
      "\n",
      "See the caveats in the documentation: http://pandas.pydata.org/pandas-docs/stable/user_guide/indexing.html#returning-a-view-versus-a-copy\n",
      "  from ipykernel import kernelapp as app\n",
      "/Users/Bellyn/opt/anaconda3/lib/python3.7/site-packages/ipykernel_launcher.py:18: SettingWithCopyWarning: \n",
      "A value is trying to be set on a copy of a slice from a DataFrame.\n",
      "Try using .loc[row_indexer,col_indexer] = value instead\n",
      "\n",
      "See the caveats in the documentation: http://pandas.pydata.org/pandas-docs/stable/user_guide/indexing.html#returning-a-view-versus-a-copy\n",
      "/Users/Bellyn/opt/anaconda3/lib/python3.7/site-packages/ipykernel_launcher.py:20: SettingWithCopyWarning: \n",
      "A value is trying to be set on a copy of a slice from a DataFrame.\n",
      "Try using .loc[row_indexer,col_indexer] = value instead\n",
      "\n",
      "See the caveats in the documentation: http://pandas.pydata.org/pandas-docs/stable/user_guide/indexing.html#returning-a-view-versus-a-copy\n"
     ]
    }
   ],
   "source": [
    "# check the top word descriptions by prices\n",
    "import nltk \n",
    "from nltk.corpus import stopwords \n",
    "from nltk.tokenize import word_tokenize \n",
    "\n",
    "# function to clean up the descriptions\n",
    "def filter_sentence(description):\n",
    "    filtered_sentence = [w.lower() for w in description if not w in stop_words and not w in string.punctuation and w.isalpha()] \n",
    "    filtered_sentence = [w.replace(\"bd\",\"bedroom\") for w in filtered_sentence] \n",
    "    filtered_sentence = [w.replace(\"bedrooms\",\"bedroom\") for w in filtered_sentence]\n",
    "    filtered_sentence = [w.replace(\"bath\", \"bathroom\") for w in filtered_sentence]\n",
    "    filtered_sentence = [w.replace(\"bathrooms\", \"bathroom\") for w in filtered_sentence]\n",
    "    return filtered_sentence\n",
    "\n",
    "airbnb_df[\"name\"] = [\"\" if isinstance(x, float) else x for x in airbnb_df[\"name\"] ]\n",
    "\n",
    "# create a new column for the cleaned up descriptions\n",
    "airbnb_df[\"description\"] = airbnb_df[\"name\"].apply(word_tokenize)\n",
    "stop_words = set(stopwords.words('english')) \n",
    "airbnb_df[\"description\"] = airbnb_df[\"description\"].apply(filter_sentence)"
   ]
  },
  {
   "cell_type": "code",
   "execution_count": 20,
   "metadata": {},
   "outputs": [
    {
     "data": {
      "text/plain": [
       "description\n",
       "room          8417\n",
       "bedroom       6698\n",
       "private       6155\n",
       "apartment     5580\n",
       "cozy          4246\n",
       "              ... \n",
       "mothership       1\n",
       "mostly           1\n",
       "mosholu          1\n",
       "moses            1\n",
       "longtermii       1\n",
       "Name: description, Length: 5889, dtype: int64"
      ]
     },
     "execution_count": 20,
     "metadata": {},
     "output_type": "execute_result"
    }
   ],
   "source": [
    "# create a new row for each word in the description \n",
    "airbnb_df_expand = airbnb_df.explode(\"description\")\n",
    "airbnb_df_expand[\"description\"] = [x if isinstance(x, str) else \"\" for x in airbnb_df_expand[\"description\"]]\n",
    "airbnb_df_expand.groupby(\"description\")[\"description\"].count().sort_values(ascending=False)"
   ]
  },
  {
   "cell_type": "code",
   "execution_count": 21,
   "metadata": {},
   "outputs": [
    {
     "name": "stderr",
     "output_type": "stream",
     "text": [
      "/Users/Bellyn/opt/anaconda3/lib/python3.7/site-packages/ipykernel_launcher.py:6: FutureWarning: using a dict on a Series for aggregation\n",
      "is deprecated and will be removed in a future version. Use                 named aggregation instead.\n",
      "\n",
      "    >>> grouper.agg(name_1=func_1, name_2=func_2)\n",
      "\n",
      "  \n"
     ]
    },
    {
     "data": {
      "text/html": [
       "<div>\n",
       "<style scoped>\n",
       "    .dataframe tbody tr th:only-of-type {\n",
       "        vertical-align: middle;\n",
       "    }\n",
       "\n",
       "    .dataframe tbody tr th {\n",
       "        vertical-align: top;\n",
       "    }\n",
       "\n",
       "    .dataframe thead th {\n",
       "        text-align: right;\n",
       "    }\n",
       "</style>\n",
       "<table border=\"1\" class=\"dataframe\">\n",
       "  <thead>\n",
       "    <tr style=\"text-align: right;\">\n",
       "      <th></th>\n",
       "      <th>Count</th>\n",
       "      <th>Min</th>\n",
       "      <th>Max</th>\n",
       "      <th>Median</th>\n",
       "      <th>Std</th>\n",
       "    </tr>\n",
       "    <tr>\n",
       "      <th>description</th>\n",
       "      <th></th>\n",
       "      <th></th>\n",
       "      <th></th>\n",
       "      <th></th>\n",
       "      <th></th>\n",
       "    </tr>\n",
       "  </thead>\n",
       "  <tbody>\n",
       "    <tr>\n",
       "      <td>service</td>\n",
       "      <td>64</td>\n",
       "      <td>78</td>\n",
       "      <td>956</td>\n",
       "      <td>699.0</td>\n",
       "      <td>221.649030</td>\n",
       "    </tr>\n",
       "    <tr>\n",
       "      <td>blueground</td>\n",
       "      <td>229</td>\n",
       "      <td>184</td>\n",
       "      <td>481</td>\n",
       "      <td>302.0</td>\n",
       "      <td>54.215222</td>\n",
       "    </tr>\n",
       "    <tr>\n",
       "      <td>tribeca</td>\n",
       "      <td>130</td>\n",
       "      <td>60</td>\n",
       "      <td>6500</td>\n",
       "      <td>293.0</td>\n",
       "      <td>618.117352</td>\n",
       "    </tr>\n",
       "    <tr>\n",
       "      <td>pool</td>\n",
       "      <td>105</td>\n",
       "      <td>49</td>\n",
       "      <td>748</td>\n",
       "      <td>275.0</td>\n",
       "      <td>113.968472</td>\n",
       "    </tr>\n",
       "    <tr>\n",
       "      <td>flatiron</td>\n",
       "      <td>63</td>\n",
       "      <td>70</td>\n",
       "      <td>2000</td>\n",
       "      <td>250.0</td>\n",
       "      <td>356.176101</td>\n",
       "    </tr>\n",
       "    <tr>\n",
       "      <td>...</td>\n",
       "      <td>...</td>\n",
       "      <td>...</td>\n",
       "      <td>...</td>\n",
       "      <td>...</td>\n",
       "      <td>...</td>\n",
       "    </tr>\n",
       "    <tr>\n",
       "      <td>budget</td>\n",
       "      <td>71</td>\n",
       "      <td>19</td>\n",
       "      <td>229</td>\n",
       "      <td>55.0</td>\n",
       "      <td>30.982432</td>\n",
       "    </tr>\n",
       "    <tr>\n",
       "      <td>ridgewood</td>\n",
       "      <td>87</td>\n",
       "      <td>20</td>\n",
       "      <td>375</td>\n",
       "      <td>50.0</td>\n",
       "      <td>60.130565</td>\n",
       "    </tr>\n",
       "    <tr>\n",
       "      <td>couch</td>\n",
       "      <td>52</td>\n",
       "      <td>10</td>\n",
       "      <td>300</td>\n",
       "      <td>50.0</td>\n",
       "      <td>53.708177</td>\n",
       "    </tr>\n",
       "    <tr>\n",
       "      <td>shared</td>\n",
       "      <td>382</td>\n",
       "      <td>0</td>\n",
       "      <td>1880</td>\n",
       "      <td>50.0</td>\n",
       "      <td>99.076737</td>\n",
       "    </tr>\n",
       "    <tr>\n",
       "      <td>female</td>\n",
       "      <td>97</td>\n",
       "      <td>19</td>\n",
       "      <td>115</td>\n",
       "      <td>49.0</td>\n",
       "      <td>23.323485</td>\n",
       "    </tr>\n",
       "  </tbody>\n",
       "</table>\n",
       "<p>397 rows × 5 columns</p>\n",
       "</div>"
      ],
      "text/plain": [
       "             Count  Min   Max  Median         Std\n",
       "description                                      \n",
       "service         64   78   956   699.0  221.649030\n",
       "blueground     229  184   481   302.0   54.215222\n",
       "tribeca        130   60  6500   293.0  618.117352\n",
       "pool           105   49   748   275.0  113.968472\n",
       "flatiron        63   70  2000   250.0  356.176101\n",
       "...            ...  ...   ...     ...         ...\n",
       "budget          71   19   229    55.0   30.982432\n",
       "ridgewood       87   20   375    50.0   60.130565\n",
       "couch           52   10   300    50.0   53.708177\n",
       "shared         382    0  1880    50.0   99.076737\n",
       "female          97   19   115    49.0   23.323485\n",
       "\n",
       "[397 rows x 5 columns]"
      ]
     },
     "execution_count": 21,
     "metadata": {},
     "output_type": "execute_result"
    }
   ],
   "source": [
    "# set cutoff to exclude statistically insignificant words\n",
    "cutoff = 50\n",
    "\n",
    "# overall most expensive listings, without controlling for anything\n",
    "description_price = airbnb_df_expand.groupby(\"description\")[\"price\"].agg({'Count':'count','Min': 'min',\n",
    "                             'Max': 'max', 'Median':'median', 'Std':'std'})\n",
    "\n",
    "description_price = description_price.loc[description_price[\"Count\"] > 50].sort_values(by=\"Median\", ascending = False)\n",
    "\n",
    "description_price"
   ]
  },
  {
   "cell_type": "code",
   "execution_count": 22,
   "metadata": {},
   "outputs": [
    {
     "name": "stderr",
     "output_type": "stream",
     "text": [
      "/Users/Bellyn/opt/anaconda3/lib/python3.7/site-packages/ipykernel_launcher.py:6: FutureWarning: using a dict on a Series for aggregation\n",
      "is deprecated and will be removed in a future version. Use                 named aggregation instead.\n",
      "\n",
      "    >>> grouper.agg(name_1=func_1, name_2=func_2)\n",
      "\n",
      "  \n"
     ]
    }
   ],
   "source": [
    "# various cuts controlling for selected features\n",
    "segment_list = [\"room_type\", \"neighbourhood_group\", \"binned_reviews\",\"binned_reviews_per_month\"]\n",
    "segment_df = []\n",
    "for s in segment_list:\n",
    "    description_segment = airbnb_df_expand.groupby([s,\"description\"])[\"price\"].agg({'Count':'count','Min': 'min',\n",
    "                             'Max': 'max', 'Median':'median'})\n",
    "    description_segment = description_segment.loc[description_segment[\"Count\"] > cutoff].sort_values(by=[s,\"Median\"], ascending = False).groupby(s).head(5)\n",
    "    segment_df.append(description_segment)"
   ]
  },
  {
   "cell_type": "code",
   "execution_count": 23,
   "metadata": {},
   "outputs": [
    {
     "data": {
      "text/html": [
       "<div>\n",
       "<style scoped>\n",
       "    .dataframe tbody tr th:only-of-type {\n",
       "        vertical-align: middle;\n",
       "    }\n",
       "\n",
       "    .dataframe tbody tr th {\n",
       "        vertical-align: top;\n",
       "    }\n",
       "\n",
       "    .dataframe thead th {\n",
       "        text-align: right;\n",
       "    }\n",
       "</style>\n",
       "<table border=\"1\" class=\"dataframe\">\n",
       "  <thead>\n",
       "    <tr style=\"text-align: right;\">\n",
       "      <th></th>\n",
       "      <th></th>\n",
       "      <th>Count</th>\n",
       "      <th>Min</th>\n",
       "      <th>Max</th>\n",
       "      <th>Median</th>\n",
       "    </tr>\n",
       "    <tr>\n",
       "      <th>neighbourhood_group</th>\n",
       "      <th>description</th>\n",
       "      <th></th>\n",
       "      <th></th>\n",
       "      <th></th>\n",
       "      <th></th>\n",
       "    </tr>\n",
       "  </thead>\n",
       "  <tbody>\n",
       "    <tr>\n",
       "      <td rowspan=\"3\" valign=\"top\">Staten Island</td>\n",
       "      <td>ferry</td>\n",
       "      <td>60</td>\n",
       "      <td>29</td>\n",
       "      <td>450</td>\n",
       "      <td>87.5</td>\n",
       "    </tr>\n",
       "    <tr>\n",
       "      <td>private</td>\n",
       "      <td>77</td>\n",
       "      <td>25</td>\n",
       "      <td>299</td>\n",
       "      <td>57.0</td>\n",
       "    </tr>\n",
       "    <tr>\n",
       "      <td>room</td>\n",
       "      <td>70</td>\n",
       "      <td>25</td>\n",
       "      <td>200</td>\n",
       "      <td>50.0</td>\n",
       "    </tr>\n",
       "    <tr>\n",
       "      <td rowspan=\"5\" valign=\"top\">Queens</td>\n",
       "      <td>beach</td>\n",
       "      <td>102</td>\n",
       "      <td>35</td>\n",
       "      <td>1500</td>\n",
       "      <td>127.0</td>\n",
       "    </tr>\n",
       "    <tr>\n",
       "      <td>house</td>\n",
       "      <td>169</td>\n",
       "      <td>10</td>\n",
       "      <td>1500</td>\n",
       "      <td>125.0</td>\n",
       "    </tr>\n",
       "    <tr>\n",
       "      <td>luxury</td>\n",
       "      <td>120</td>\n",
       "      <td>30</td>\n",
       "      <td>900</td>\n",
       "      <td>119.5</td>\n",
       "    </tr>\n",
       "    <tr>\n",
       "      <td>floor</td>\n",
       "      <td>51</td>\n",
       "      <td>32</td>\n",
       "      <td>1500</td>\n",
       "      <td>108.0</td>\n",
       "    </tr>\n",
       "    <tr>\n",
       "      <td>entire</td>\n",
       "      <td>74</td>\n",
       "      <td>29</td>\n",
       "      <td>299</td>\n",
       "      <td>107.5</td>\n",
       "    </tr>\n",
       "    <tr>\n",
       "      <td rowspan=\"5\" valign=\"top\">Manhattan</td>\n",
       "      <td>service</td>\n",
       "      <td>62</td>\n",
       "      <td>80</td>\n",
       "      <td>956</td>\n",
       "      <td>699.0</td>\n",
       "    </tr>\n",
       "    <tr>\n",
       "      <td>blueground</td>\n",
       "      <td>227</td>\n",
       "      <td>184</td>\n",
       "      <td>481</td>\n",
       "      <td>302.0</td>\n",
       "    </tr>\n",
       "    <tr>\n",
       "      <td>townhouse</td>\n",
       "      <td>166</td>\n",
       "      <td>58</td>\n",
       "      <td>7703</td>\n",
       "      <td>299.0</td>\n",
       "    </tr>\n",
       "    <tr>\n",
       "      <td>tribeca</td>\n",
       "      <td>130</td>\n",
       "      <td>60</td>\n",
       "      <td>6500</td>\n",
       "      <td>293.0</td>\n",
       "    </tr>\n",
       "    <tr>\n",
       "      <td>pool</td>\n",
       "      <td>81</td>\n",
       "      <td>65</td>\n",
       "      <td>748</td>\n",
       "      <td>282.0</td>\n",
       "    </tr>\n",
       "    <tr>\n",
       "      <td rowspan=\"5\" valign=\"top\">Brooklyn</td>\n",
       "      <td>stunning</td>\n",
       "      <td>96</td>\n",
       "      <td>32</td>\n",
       "      <td>1749</td>\n",
       "      <td>199.5</td>\n",
       "    </tr>\n",
       "    <tr>\n",
       "      <td>duplex</td>\n",
       "      <td>464</td>\n",
       "      <td>30</td>\n",
       "      <td>6500</td>\n",
       "      <td>175.0</td>\n",
       "    </tr>\n",
       "    <tr>\n",
       "      <td>sleeps</td>\n",
       "      <td>63</td>\n",
       "      <td>80</td>\n",
       "      <td>995</td>\n",
       "      <td>175.0</td>\n",
       "    </tr>\n",
       "    <tr>\n",
       "      <td>views</td>\n",
       "      <td>133</td>\n",
       "      <td>20</td>\n",
       "      <td>650</td>\n",
       "      <td>172.0</td>\n",
       "    </tr>\n",
       "    <tr>\n",
       "      <td>condo</td>\n",
       "      <td>100</td>\n",
       "      <td>50</td>\n",
       "      <td>525</td>\n",
       "      <td>170.0</td>\n",
       "    </tr>\n",
       "    <tr>\n",
       "      <td rowspan=\"5\" valign=\"top\">Bronx</td>\n",
       "      <td>apartment</td>\n",
       "      <td>133</td>\n",
       "      <td>20</td>\n",
       "      <td>500</td>\n",
       "      <td>90.0</td>\n",
       "    </tr>\n",
       "    <tr>\n",
       "      <td>nyc</td>\n",
       "      <td>77</td>\n",
       "      <td>22</td>\n",
       "      <td>399</td>\n",
       "      <td>85.0</td>\n",
       "    </tr>\n",
       "    <tr>\n",
       "      <td>yankee</td>\n",
       "      <td>51</td>\n",
       "      <td>23</td>\n",
       "      <td>350</td>\n",
       "      <td>80.0</td>\n",
       "    </tr>\n",
       "    <tr>\n",
       "      <td>studio</td>\n",
       "      <td>54</td>\n",
       "      <td>20</td>\n",
       "      <td>670</td>\n",
       "      <td>79.5</td>\n",
       "    </tr>\n",
       "    <tr>\n",
       "      <td>bedroom</td>\n",
       "      <td>119</td>\n",
       "      <td>28</td>\n",
       "      <td>680</td>\n",
       "      <td>75.0</td>\n",
       "    </tr>\n",
       "  </tbody>\n",
       "</table>\n",
       "</div>"
      ],
      "text/plain": [
       "                                 Count  Min   Max  Median\n",
       "neighbourhood_group description                          \n",
       "Staten Island       ferry           60   29   450    87.5\n",
       "                    private         77   25   299    57.0\n",
       "                    room            70   25   200    50.0\n",
       "Queens              beach          102   35  1500   127.0\n",
       "                    house          169   10  1500   125.0\n",
       "                    luxury         120   30   900   119.5\n",
       "                    floor           51   32  1500   108.0\n",
       "                    entire          74   29   299   107.5\n",
       "Manhattan           service         62   80   956   699.0\n",
       "                    blueground     227  184   481   302.0\n",
       "                    townhouse      166   58  7703   299.0\n",
       "                    tribeca        130   60  6500   293.0\n",
       "                    pool            81   65   748   282.0\n",
       "Brooklyn            stunning        96   32  1749   199.5\n",
       "                    duplex         464   30  6500   175.0\n",
       "                    sleeps          63   80   995   175.0\n",
       "                    views          133   20   650   172.0\n",
       "                    condo          100   50   525   170.0\n",
       "Bronx               apartment      133   20   500    90.0\n",
       "                    nyc             77   22   399    85.0\n",
       "                    yankee          51   23   350    80.0\n",
       "                    studio          54   20   670    79.5\n",
       "                    bedroom        119   28   680    75.0"
      ]
     },
     "execution_count": 23,
     "metadata": {},
     "output_type": "execute_result"
    }
   ],
   "source": [
    "# view by controlled segment\n",
    "segment_df[segment_list.index(\"neighbourhood_group\")]"
   ]
  },
  {
   "cell_type": "code",
   "execution_count": null,
   "metadata": {},
   "outputs": [],
   "source": []
  }
 ],
 "metadata": {
  "kernelspec": {
   "display_name": "Python 3",
   "language": "python",
   "name": "python3"
  },
  "language_info": {
   "codemirror_mode": {
    "name": "ipython",
    "version": 3
   },
   "file_extension": ".py",
   "mimetype": "text/x-python",
   "name": "python",
   "nbconvert_exporter": "python",
   "pygments_lexer": "ipython3",
   "version": "3.7.4"
  }
 },
 "nbformat": 4,
 "nbformat_minor": 1
}
