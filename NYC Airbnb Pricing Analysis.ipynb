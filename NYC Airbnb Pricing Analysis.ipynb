{
 "cells": [
  {
   "cell_type": "code",
   "execution_count": 1,
   "metadata": {
    "_cell_guid": "b1076dfc-b9ad-4769-8c92-a6c4dae69d19",
    "_uuid": "8f2839f25d086af736a60e9eeb907d3b93b6e0e5"
   },
   "outputs": [
    {
     "ename": "ModuleNotFoundError",
     "evalue": "No module named 'pandas'",
     "output_type": "error",
     "traceback": [
      "\u001b[0;31m---------------------------------------------------------------------------\u001b[0m",
      "\u001b[0;31mModuleNotFoundError\u001b[0m                       Traceback (most recent call last)",
      "\u001b[0;32m<ipython-input-1-2293b209b3b5>\u001b[0m in \u001b[0;36m<module>\u001b[0;34m()\u001b[0m\n\u001b[1;32m      1\u001b[0m \u001b[0;32mimport\u001b[0m \u001b[0mnumpy\u001b[0m \u001b[0;32mas\u001b[0m \u001b[0mnp\u001b[0m \u001b[0;31m# linear algebra\u001b[0m\u001b[0;34m\u001b[0m\u001b[0m\n\u001b[0;32m----> 2\u001b[0;31m \u001b[0;32mimport\u001b[0m \u001b[0mpandas\u001b[0m \u001b[0;32mas\u001b[0m \u001b[0mpd\u001b[0m \u001b[0;31m# data processing, CSV file I/O (e.g. pd.read_csv)\u001b[0m\u001b[0;34m\u001b[0m\u001b[0m\n\u001b[0m\u001b[1;32m      3\u001b[0m \u001b[0;32mimport\u001b[0m \u001b[0mmatplotlib\u001b[0m\u001b[0;34m.\u001b[0m\u001b[0mpyplot\u001b[0m \u001b[0;32mas\u001b[0m \u001b[0mplt\u001b[0m\u001b[0;34m\u001b[0m\u001b[0m\n\u001b[1;32m      4\u001b[0m \u001b[0;32mimport\u001b[0m \u001b[0mseaborn\u001b[0m \u001b[0;32mas\u001b[0m \u001b[0msns\u001b[0m\u001b[0;34m\u001b[0m\u001b[0m\n\u001b[1;32m      5\u001b[0m \u001b[0;32mimport\u001b[0m \u001b[0mstring\u001b[0m\u001b[0;34m\u001b[0m\u001b[0m\n",
      "\u001b[0;31mModuleNotFoundError\u001b[0m: No module named 'pandas'"
     ]
    }
   ],
   "source": [
    "import numpy as np # linear algebra\n",
    "import pandas as pd # data processing, CSV file I/O (e.g. pd.read_csv)\n",
    "import matplotlib.pyplot as plt\n",
    "import seaborn as sns\n",
    "import string\n",
    "\n",
    "import os\n",
    "for dirname, _, filenames in os.walk('/kaggle/input'):\n",
    "    for filename in filenames:\n",
    "        print(os.path.join(dirname, filename))"
   ]
  },
  {
   "cell_type": "markdown",
   "metadata": {},
   "source": [
    "For this project I am interested in understanding listing features driving higher AirBnB prices. How can AirBnB hosts bring out the best existing qualities of their listings? How can they know if their pricing is fair compared to market? \n",
    "\n",
    "This piece of analysis is broken down into two parts to answer the questions:\n",
    "* What is a fair price for each listing?\n",
    "* How can they bring out the best qualities of their listing through accurate description?"
   ]
  },
  {
   "cell_type": "markdown",
   "metadata": {},
   "source": [
    "![](http://)**1. Data Overview and Preprocessing**"
   ]
  },
  {
   "cell_type": "code",
   "execution_count": 2,
   "metadata": {
    "_cell_guid": "79c7e3d0-c299-4dcb-8224-4455121ee9b0",
    "_uuid": "d629ff2d2480ee46fbb7e2d37f6b5fab8052498a"
   },
   "outputs": [
    {
     "ename": "NameError",
     "evalue": "name 'pd' is not defined",
     "output_type": "error",
     "traceback": [
      "\u001b[0;31m---------------------------------------------------------------------------\u001b[0m",
      "\u001b[0;31mNameError\u001b[0m                                 Traceback (most recent call last)",
      "\u001b[0;32m<ipython-input-2-91aaa1e64957>\u001b[0m in \u001b[0;36m<module>\u001b[0;34m()\u001b[0m\n\u001b[0;32m----> 1\u001b[0;31m \u001b[0mairbnb\u001b[0m \u001b[0;34m=\u001b[0m \u001b[0mpd\u001b[0m\u001b[0;34m.\u001b[0m\u001b[0mread_csv\u001b[0m\u001b[0;34m(\u001b[0m\u001b[0;34m\"/kaggle/input/new-york-city-airbnb-open-data/AB_NYC_2019.csv\"\u001b[0m\u001b[0;34m)\u001b[0m\u001b[0;34m\u001b[0m\u001b[0m\n\u001b[0m",
      "\u001b[0;31mNameError\u001b[0m: name 'pd' is not defined"
     ]
    }
   ],
   "source": [
    "airbnb = pd.read_csv(\"/kaggle/input/new-york-city-airbnb-open-data/AB_NYC_2019.csv\")"
   ]
  },
  {
   "cell_type": "code",
   "execution_count": 3,
   "metadata": {},
   "outputs": [
    {
     "ename": "NameError",
     "evalue": "name 'airbnb' is not defined",
     "output_type": "error",
     "traceback": [
      "\u001b[0;31m---------------------------------------------------------------------------\u001b[0m",
      "\u001b[0;31mNameError\u001b[0m                                 Traceback (most recent call last)",
      "\u001b[0;32m<ipython-input-3-49a32abd0b77>\u001b[0m in \u001b[0;36m<module>\u001b[0;34m()\u001b[0m\n\u001b[0;32m----> 1\u001b[0;31m \u001b[0mprint\u001b[0m\u001b[0;34m(\u001b[0m\u001b[0;34m\"\\nData size: \\n\"\u001b[0m\u001b[0;34m,\u001b[0m \u001b[0mairbnb\u001b[0m\u001b[0;34m.\u001b[0m\u001b[0mshape\u001b[0m\u001b[0;34m)\u001b[0m\u001b[0;34m\u001b[0m\u001b[0m\n\u001b[0m\u001b[1;32m      2\u001b[0m \u001b[0mprint\u001b[0m\u001b[0;34m(\u001b[0m\u001b[0;34m\"\\nData types: \\n\"\u001b[0m\u001b[0;34m,\u001b[0m \u001b[0mairbnb\u001b[0m\u001b[0;34m.\u001b[0m\u001b[0mdtypes\u001b[0m\u001b[0;34m)\u001b[0m\u001b[0;34m\u001b[0m\u001b[0m\n\u001b[1;32m      3\u001b[0m \u001b[0mprint\u001b[0m\u001b[0;34m(\u001b[0m\u001b[0;34m\"\\nFeatures: \\n\"\u001b[0m\u001b[0;34m,\u001b[0m \u001b[0mairbnb\u001b[0m\u001b[0;34m.\u001b[0m\u001b[0mcolumns\u001b[0m\u001b[0;34m)\u001b[0m\u001b[0;34m\u001b[0m\u001b[0m\n\u001b[1;32m      4\u001b[0m \u001b[0mprint\u001b[0m\u001b[0;34m(\u001b[0m\u001b[0;34m\"\\nMissing Values :\"\u001b[0m\u001b[0;34m,\u001b[0m \u001b[0mairbnb\u001b[0m\u001b[0;34m.\u001b[0m\u001b[0misnull\u001b[0m\u001b[0;34m(\u001b[0m\u001b[0;34m)\u001b[0m\u001b[0;34m.\u001b[0m\u001b[0msum\u001b[0m\u001b[0;34m(\u001b[0m\u001b[0;34m)\u001b[0m\u001b[0;34m)\u001b[0m\u001b[0;34m\u001b[0m\u001b[0m\n\u001b[1;32m      5\u001b[0m \u001b[0mprint\u001b[0m\u001b[0;34m(\u001b[0m\u001b[0;34m\"\\nUnique Values :\"\u001b[0m\u001b[0;34m,\u001b[0m \u001b[0mairbnb\u001b[0m\u001b[0;34m.\u001b[0m\u001b[0mnunique\u001b[0m\u001b[0;34m(\u001b[0m\u001b[0;34m)\u001b[0m\u001b[0;34m)\u001b[0m\u001b[0;34m\u001b[0m\u001b[0m\n",
      "\u001b[0;31mNameError\u001b[0m: name 'airbnb' is not defined"
     ]
    }
   ],
   "source": [
    "print(\"\\nData size: \\n\", airbnb.shape)\n",
    "print(\"\\nData types: \\n\", airbnb.dtypes)\n",
    "print(\"\\nFeatures: \\n\", airbnb.columns)\n",
    "print(\"\\nMissing Values :\", airbnb.isnull().sum())\n",
    "print(\"\\nUnique Values :\", airbnb.nunique())"
   ]
  },
  {
   "cell_type": "code",
   "execution_count": null,
   "metadata": {},
   "outputs": [],
   "source": [
    "# separate our table from original table for further manipulation\n",
    "airbnb_df = airbnb\n",
    "\n",
    "# convert date into day, month, and year columns\n",
    "airbnb_df.last_review = pd.to_datetime(airbnb.last_review)\n",
    "airbnb_df[\"last_review_day\"] = airbnb_df.last_review.dt.day\n",
    "airbnb_df[\"last_review_month\"] = airbnb_df.last_review.dt.month\n",
    "airbnb_df[\"last_review_year\"] = airbnb_df.last_review.dt.year"
   ]
  },
  {
   "cell_type": "code",
   "execution_count": null,
   "metadata": {},
   "outputs": [],
   "source": [
    "# do all the missing values occur at the same index?\n",
    "last_review_missing = pd.isnull(airbnb_df[\"last_review\"])\n",
    "reviews_per_month_missing = pd.isnull(airbnb_df[\"reviews_per_month\"])\n",
    "print(\"Do all missing values occur at the same index?\")\n",
    "print(np.array_equal(last_review_missing,reviews_per_month_missing))\n",
    "\n",
    "# create a new flag to tag these listings as new listings \n",
    "airbnb_df[\"new_listing_flag\"] = np.where(last_review_missing, 1, 0)"
   ]
  },
  {
   "cell_type": "code",
   "execution_count": null,
   "metadata": {},
   "outputs": [],
   "source": [
    "time_trend_count = airbnb_df.groupby([ \"neighbourhood_group\",\"last_review_year\"])[\"id\"].count().reset_index()\n",
    "time_trend_count.set_index([\"last_review_year\"]).reset_index().sort_values(by=[\"neighbourhood_group\",\"last_review_year\"])\n",
    "\n",
    "time_trend_count = pd.DataFrame(time_trend_count)\n",
    "time_trend_count = pd.pivot_table(time_trend_count,values=\"id\",columns=\"neighbourhood_group\",index=\"last_review_year\").fillna(value=0)\n",
    "\n",
    "plt.figure(figsize=(16, 10))\n",
    "\n",
    "barWidth = 0.15  # the width of the bar\n",
    "# set height of bar\n",
    "bars1 = time_trend_count[\"Bronx\"].tolist()\n",
    "bars2 = time_trend_count[\"Brooklyn\"].tolist()\n",
    "bars3 = time_trend_count[\"Manhattan\"].tolist()\n",
    "bars4 = time_trend_count[\"Staten Island\"].tolist()\n",
    "bars5 = time_trend_count[\"Queens\"].tolist()\n",
    "\n",
    "# Set position of bar on X axis\n",
    "r1 = np.arange(len(bars1))\n",
    "r2 = [x + barWidth for x in r1]\n",
    "r3 = [x + barWidth for x in r2]\n",
    "r4 = [x + barWidth for x in r3]\n",
    "r5 = [x + barWidth for x in r4]\n",
    "\n",
    "plt.bar(r1, bars1, color='brown', width=barWidth, edgecolor='white', label='Bronx')\n",
    "plt.bar(r2, bars2, color='blue', width=barWidth, edgecolor='white', label='Brooklyn')\n",
    "plt.bar(r3, bars3, color='red', width=barWidth, edgecolor='white', label='Manhattan')\n",
    "plt.bar(r4, bars4, color='green', width=barWidth, edgecolor='white', label='Staten Island')\n",
    "plt.bar(r5, bars5, color='yellow', width=barWidth, edgecolor='white', label='Queens')\n",
    "\n",
    "plt.xlabel('Year', fontweight='bold')\n",
    "plt.ylabel('Number of listings', fontweight='bold')\n",
    "plt.xticks([r + barWidth for r in range(len(bars1))], time_trend_count.index)\n",
    "\n",
    "plt.legend()\n",
    "plt.show()\n"
   ]
  },
  {
   "cell_type": "markdown",
   "metadata": {},
   "source": [
    "Here I set the assumption that \"last_review_year\" older than 2018 are inactive listings. We will focus the rest of the analysis on the active listings.  "
   ]
  },
  {
   "cell_type": "code",
   "execution_count": null,
   "metadata": {},
   "outputs": [],
   "source": [
    "airbnb_df = airbnb_df[ (airbnb_df[\"last_review_year\"] > 2017) | (airbnb_df[\"new_listing_flag\"] == 1)]"
   ]
  },
  {
   "cell_type": "markdown",
   "metadata": {},
   "source": [
    "**2. Analysis**"
   ]
  },
  {
   "cell_type": "code",
   "execution_count": null,
   "metadata": {},
   "outputs": [],
   "source": [
    "price_by_neighbourhood = airbnb_df.groupby([\"neighbourhood_group\",\"new_listing_flag\"])[\"price\"].agg({'Count':'count','Min': 'min',\n",
    "                             'Max': 'max', 'Median':'median', 'Std':'std'})\n",
    "\n",
    "price_by_neighbourhood = price_by_neighbourhood.sort_values(by=[\"neighbourhood_group\",\"new_listing_flag\"], ascending = False).reset_index()\n",
    "print(price_by_neighbourhood)\n",
    "\n",
    "# Grouped boxplot\n",
    "df = pd.DataFrame(airbnb_df[[\"price\",\"neighbourhood_group\", \"new_listing_flag\"]])\n",
    "plt.figure(figsize=(16, 10))\n",
    "sns.boxplot(x=\"neighbourhood_group\", y=\"price\", hue=\"new_listing_flag\", data=df, palette=\"Set1\", showfliers=False)"
   ]
  },
  {
   "cell_type": "markdown",
   "metadata": {},
   "source": [
    "This chart gives a sense of scale of the Airbnb listing space. Manhattan has the most expensive listings, followed by Brooklyn. New listings are overall more expensive than existing listings. "
   ]
  },
  {
   "cell_type": "code",
   "execution_count": null,
   "metadata": {},
   "outputs": [],
   "source": [
    "# Within each neighborhood group, which are the most expensive?\n",
    "\n",
    "neighborhood = airbnb_df.groupby([\"neighbourhood_group\",\"neighbourhood\"])[\"price\"].agg({'Count':'count','Min': 'min',\n",
    "                             'Max': 'max', 'Median':'median', 'Std':'std'})\n",
    "\n",
    "neighborhood[neighborhood[\"Count\"]>100].sort_values(by=\"Median\", ascending = False).groupby(\"neighbourhood_group\").head(5)"
   ]
  },
  {
   "cell_type": "code",
   "execution_count": null,
   "metadata": {},
   "outputs": [],
   "source": [
    "# Popularity of listing\n",
    "number_of_reviews_bins = [1,10,20,40,60,80,100,float(\"inf\")]\n",
    "number_of_review_labels = [\"<10\",\"10-19\",\"20-39\",\"40-59\",\"60-79\",\"80-99\",\">100\"]\n",
    "airbnb_df['binned_reviews'] = pd.cut(airbnb_df['number_of_reviews'], bins = number_of_reviews_bins, labels = number_of_review_labels)\n",
    "airbnb_df[[\"number_of_reviews\", \"binned_reviews\"]].dropna().groupby(\"binned_reviews\").count()"
   ]
  },
  {
   "cell_type": "code",
   "execution_count": null,
   "metadata": {},
   "outputs": [],
   "source": [
    "reviews = airbnb_df.groupby(\"binned_reviews\")[\"price\"].agg({'Count':'count','Min': 'min',\n",
    "                             'Max': 'max', 'Median':'median', 'Std':'std'})\n",
    "\n",
    "# Grouped boxplot\n",
    "reviews_boxplot = pd.DataFrame(airbnb_df[[\"binned_reviews\",\"price\"]])\n",
    "plt.figure(figsize=(16, 10))\n",
    "sns.boxplot(x=\"binned_reviews\", y=\"price\", data=reviews_boxplot, palette=\"Set1\", showfliers=False)"
   ]
  },
  {
   "cell_type": "markdown",
   "metadata": {},
   "source": [
    "Most airbnb listings have less than 10 cumulative reviews. The number of reviews per listing doesn't seem to affect the price.\n"
   ]
  },
  {
   "cell_type": "code",
   "execution_count": null,
   "metadata": {},
   "outputs": [],
   "source": [
    "# Popularity of listing\n",
    "reviews_per_month_bins = [0,5,10,20,50,100,float(\"inf\")]\n",
    "# reviews_per_month_labels = [\"<10\",\"10-19\",\"20-39\",\"40-59\",\"60-79\",\"80-99\",\">100\"]\n",
    "airbnb_df['binned_reviews_per_month'] = pd.cut(airbnb_df['number_of_reviews'], bins = reviews_per_month_bins)#, labels = reviews_per_month_labels)\n",
    "airbnb_df[[\"reviews_per_month\", \"binned_reviews_per_month\"]].dropna().groupby(\"binned_reviews_per_month\").count()"
   ]
  },
  {
   "cell_type": "code",
   "execution_count": null,
   "metadata": {},
   "outputs": [],
   "source": [
    "reviews_per_month = airbnb_df.groupby(\"binned_reviews_per_month\")[\"price\"].agg({'Count':'count','Min': 'min',\n",
    "                             'Max': 'max', 'Median':'median', 'Std':'std'})\n",
    "\n",
    "print(reviews_per_month)\n",
    "# Grouped boxplot\n",
    "reviews_boxplot = pd.DataFrame(airbnb_df[[\"binned_reviews_per_month\",\"price\"]])\n",
    "plt.figure(figsize=(16, 10))\n",
    "sns.boxplot(x=\"binned_reviews_per_month\", y=\"price\", data=reviews_boxplot, palette=\"Set1\", showfliers=False)"
   ]
  },
  {
   "cell_type": "code",
   "execution_count": null,
   "metadata": {},
   "outputs": [],
   "source": [
    "room_trend = airbnb_df[airbnb_df[\"new_listing_flag\"] == 0].groupby([ \"neighbourhood_group\",\"room_type\"])[\"price\"].median().reset_index()\n",
    "room_trend.set_index([\"room_type\"]).reset_index().sort_values(by=[\"neighbourhood_group\",\"room_type\"])\n",
    "\n",
    "room_trend = pd.DataFrame(room_trend)\n",
    "room_trend = pd.pivot_table(room_trend,values=\"price\",columns=\"neighbourhood_group\",index=\"room_type\").fillna(value=0)\n",
    "\n",
    "plt.figure(figsize=(16, 10))\n",
    "\n",
    "barWidth = 0.15  # the width of the bar\n",
    "# set height of bar\n",
    "bars1 = room_trend[\"Bronx\"].tolist()\n",
    "bars2 = room_trend[\"Brooklyn\"].tolist()\n",
    "bars3 = room_trend[\"Manhattan\"].tolist()\n",
    "bars4 = room_trend[\"Staten Island\"].tolist()\n",
    "bars5 = room_trend[\"Queens\"].tolist()\n",
    "\n",
    "# Set position of bar on X axis\n",
    "r1 = np.arange(len(bars1))\n",
    "r2 = [x + barWidth for x in r1]\n",
    "r3 = [x + barWidth for x in r2]\n",
    "r4 = [x + barWidth for x in r3]\n",
    "r5 = [x + barWidth for x in r4]\n",
    "\n",
    "plt.bar(r1, bars1, color='brown', width=barWidth, edgecolor='white', label='Bronx')\n",
    "plt.bar(r2, bars2, color='blue', width=barWidth, edgecolor='white', label='Brooklyn')\n",
    "plt.bar(r3, bars3, color='red', width=barWidth, edgecolor='white', label='Manhattan')\n",
    "plt.bar(r4, bars4, color='green', width=barWidth, edgecolor='white', label='Staten Island')\n",
    "plt.bar(r5, bars5, color='yellow', width=barWidth, edgecolor='white', label='Queens')\n",
    "\n",
    "plt.xlabel('Room Type', fontweight='bold')\n",
    "plt.ylabel('Price', fontweight='bold')\n",
    "plt.xticks([r + barWidth for r in range(len(bars1))], room_trend.index)\n",
    "\n",
    "plt.legend()\n",
    "plt.show()"
   ]
  },
  {
   "cell_type": "markdown",
   "metadata": {},
   "source": [
    "We know that entire homes fetch a higher price than semi-private spaces. But the difference between boroughs is again pronounced here. For the same price as a private room in Manhattan, you can get a whole apartment if you move to the Bronx or Staten Island."
   ]
  },
  {
   "cell_type": "markdown",
   "metadata": {},
   "source": [
    "** 3. Listing Description Analysis **\n",
    "\n",
    "I'm interested in understanding the qualitative features that set prices apart. What are some features that makes listings more desirable? \n",
    "\n",
    "To control for the difference between boroughs, we'll look into the features within each borough. We'll also dive deeper by controlling for other features such as type of room and the overall popularity of the listing."
   ]
  },
  {
   "cell_type": "code",
   "execution_count": null,
   "metadata": {},
   "outputs": [],
   "source": [
    "# check the top word descriptions by prices\n",
    "import nltk \n",
    "from nltk.corpus import stopwords \n",
    "from nltk.tokenize import word_tokenize \n",
    "\n",
    "# function to clean up the descriptions\n",
    "def filter_sentence(description):\n",
    "    filtered_sentence = [w.lower() for w in description if not w in stop_words and not w in string.punctuation and w.isalpha()] \n",
    "    filtered_sentence = [w.replace(\"bd\",\"bedroom\") for w in filtered_sentence] \n",
    "    filtered_sentence = [w.replace(\"bedrooms\",\"bedroom\") for w in filtered_sentence]\n",
    "    filtered_sentence = [w.replace(\"bath\", \"bathroom\") for w in filtered_sentence]\n",
    "    filtered_sentence = [w.replace(\"bathrooms\", \"bathroom\") for w in filtered_sentence]\n",
    "    return filtered_sentence\n",
    "\n",
    "airbnb_df[\"name\"] = [\"\" if isinstance(x, float) else x for x in airbnb_df[\"name\"] ]\n",
    "\n",
    "# create a new column for the cleaned up descriptions\n",
    "airbnb_df[\"description\"] = airbnb_df[\"name\"].apply(word_tokenize)\n",
    "stop_words = set(stopwords.words('english')) \n",
    "airbnb_df[\"description\"] = airbnb_df[\"description\"].apply(filter_sentence)"
   ]
  },
  {
   "cell_type": "code",
   "execution_count": null,
   "metadata": {},
   "outputs": [],
   "source": [
    "# create a new row for each word in the description \n",
    "airbnb_df_expand = airbnb_df.explode(\"description\")\n",
    "airbnb_df_expand[\"description\"] = [x if isinstance(x, str) else \"\" for x in airbnb_df_expand[\"description\"]]\n",
    "airbnb_df_expand.groupby(\"description\")[\"description\"].count().sort_values(ascending=False)"
   ]
  },
  {
   "cell_type": "code",
   "execution_count": null,
   "metadata": {},
   "outputs": [],
   "source": [
    "# set cutoff to exclude statistically insignificant words\n",
    "cutoff = 50\n",
    "\n",
    "# overall most expensive listings, without controlling for anything\n",
    "description_price = airbnb_df_expand.groupby(\"description\")[\"price\"].agg({'Count':'count','Min': 'min',\n",
    "                             'Max': 'max', 'Median':'median', 'Std':'std'})\n",
    "\n",
    "description_price = description_price.loc[description_price[\"Count\"] > 50].sort_values(by=\"Median\", ascending = False)\n",
    "\n",
    "description_price"
   ]
  },
  {
   "cell_type": "code",
   "execution_count": null,
   "metadata": {},
   "outputs": [],
   "source": [
    "# various cuts controlling for selected features\n",
    "segment_list = [\"room_type\", \"neighbourhood_group\", \"binned_reviews\",\"binned_reviews_per_month\"]\n",
    "segment_df = []\n",
    "for s in segment_list:\n",
    "    description_segment = airbnb_df_expand.groupby([s,\"description\"])[\"price\"].agg({'Count':'count','Min': 'min',\n",
    "                             'Max': 'max', 'Median':'median'})\n",
    "    description_segment = description_segment.loc[description_segment[\"Count\"] > cutoff].sort_values(by=[s,\"Median\"], ascending = False).groupby(s).head(5)\n",
    "    segment_df.append(description_segment)"
   ]
  },
  {
   "cell_type": "code",
   "execution_count": null,
   "metadata": {},
   "outputs": [],
   "source": [
    "# view by controlled segment\n",
    "segment_df[segment_list.index(\"neighbourhood_group\")]"
   ]
  }
 ],
 "metadata": {
  "kernelspec": {
   "display_name": "Python 3",
   "language": "python",
   "name": "python3"
  },
  "language_info": {
   "codemirror_mode": {
    "name": "ipython",
    "version": 3
   },
   "file_extension": ".py",
   "mimetype": "text/x-python",
   "name": "python",
   "nbconvert_exporter": "python",
   "pygments_lexer": "ipython3",
   "version": "3.7.4"
  }
 },
 "nbformat": 4,
 "nbformat_minor": 1
}
